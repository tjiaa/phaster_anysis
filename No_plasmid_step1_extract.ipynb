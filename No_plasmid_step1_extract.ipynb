{
 "cells": [
  {
   "cell_type": "code",
   "execution_count": 1,
   "metadata": {},
   "outputs": [],
   "source": [
    "import os\n",
    "import shutil\n",
    "import pandas as pd\n",
    "from Bio import SeqIO"
   ]
  },
  {
   "cell_type": "code",
   "execution_count": null,
   "metadata": {},
   "outputs": [],
   "source": [
    "# path='E:/1819_data/1817_ALL_STRAINS/file_chormo/'\n",
    "# file_list=os.listdir(path)\n",
    "# len(file_list)"
   ]
  },
  {
   "cell_type": "code",
   "execution_count": 11,
   "metadata": {},
   "outputs": [],
   "source": [
    "# for item in file_list:\n",
    "#     file_split=item.split('_')\n",
    "#     file_new_name=file_split[0]+'_'+file_split[1]+'.fasta'\n",
    "#     os.rename(path+item,path+file_new_name)"
   ]
  },
  {
   "cell_type": "code",
   "execution_count": 12,
   "metadata": {},
   "outputs": [],
   "source": [
    "# plasmid_file=pd.read_csv('plasmid_file.csv')\n",
    "# plasmid_file_list=plasmid_file['plasmid']\n",
    "# len(plasmid_file_list)\n",
    "\n",
    "# for ii in plasmid_file_list:\n",
    "#     remove_filename=ii+'.fasta'\n",
    "#     shutil.move(path+remove_filename,path2)\n"
   ]
  },
  {
   "attachments": {},
   "cell_type": "markdown",
   "metadata": {},
   "source": [
    "验证contig数目"
   ]
  },
  {
   "cell_type": "code",
   "execution_count": 9,
   "metadata": {},
   "outputs": [],
   "source": [
    "# all_contig_num=[]\n",
    "# filename=[]\n",
    "# for files in file_list:\n",
    "#     records = SeqIO.parse(path+files, \"fasta\")\n",
    "#     count = 0\n",
    "#     for record in records:\n",
    "#         count += 1\n",
    "#     all_contig_num.append(count)\n",
    "#     filename.append(files)\n",
    "# output={'filename':filename, 'contig_num':all_contig_num}\n",
    "# output2=pd.DataFrame(output)\n",
    "# output2.to_csv('contig_count.csv',index=False)"
   ]
  },
  {
   "attachments": {},
   "cell_type": "markdown",
   "metadata": {},
   "source": [
    "提取702个染色体文件的第一行"
   ]
  },
  {
   "cell_type": "code",
   "execution_count": 4,
   "metadata": {},
   "outputs": [],
   "source": [
    "# all_first_line=[]\n",
    "# filename=[]\n",
    "# for i in file_list:\n",
    "#     with open(path+i) as f:\n",
    "#         firstline = f.readline()\n",
    "#         all_first_line.append(firstline)\n",
    "#         filename.append(i)\n",
    "# output={'filename':filename,'first':all_first_line}\n",
    "# output3=pd.DataFrame(output)\n",
    "# output3.to_csv('all_first_filename.csv',index=False)\n",
    "        "
   ]
  },
  {
   "attachments": {},
   "cell_type": "markdown",
   "metadata": {},
   "source": [
    "给phaster结果分配文件夹，并解压"
   ]
  },
  {
   "cell_type": "code",
   "execution_count": 2,
   "metadata": {},
   "outputs": [
    {
     "name": "stdout",
     "output_type": "stream",
     "text": [
      "702\n"
     ]
    }
   ],
   "source": [
    "phaster_result_path='D:/文稿/Compelte Salmonella_MGE/VVV3.0VVV/phaster/702_no_plasmid/'\n",
    "target_path='D:/文稿/Compelte Salmonella_MGE/VVV3.0VVV/phaster/step1/'\n",
    "phaster_result_list=os.listdir(phaster_result_path)\n",
    "print(len(phaster_result_list))\n",
    "for ii in phaster_result_list:\n",
    "    # temp_filefolder_name=ii.split('.')\n",
    "    # new_filefoder_name=temp_filefolder_name[0]+'.'+temp_filefolder_name[1]\n",
    "    os.mkdir(target_path+ii)\n",
    "\n",
    "for file in phaster_result_list:\n",
    "    shutil.move(phaster_result_path+file,target_path+file)"
   ]
  },
  {
   "cell_type": "code",
   "execution_count": 3,
   "metadata": {},
   "outputs": [],
   "source": [
    "# shutil.unpack_archive(\"path/to/your_file.zip\", \"path/to/extract/to\")\n",
    "for file in phaster_result_list:\n",
    "    shutil.unpack_archive(target_path+file+'/'+file,target_path+file+'/')"
   ]
  },
  {
   "attachments": {},
   "cell_type": "markdown",
   "metadata": {},
   "source": [
    "获取phaster结果的首行和文件名"
   ]
  },
  {
   "cell_type": "code",
   "execution_count": 4,
   "metadata": {},
   "outputs": [],
   "source": [
    "all_first_line=[]\n",
    "filename=[]\n",
    "for i in phaster_result_list:\n",
    "    with open(target_path+i+'/'+'detail.txt') as f:\n",
    "        firstline = f.readline()\n",
    "        all_first_line.append(firstline)\n",
    "        filename.append(i)\n",
    "output={'filename':filename,'first':all_first_line}\n",
    "output3=pd.DataFrame(output)\n",
    "output3.to_csv('phaster702_all_first_filename.csv',index=False)\n",
    "    "
   ]
  },
  {
   "attachments": {},
   "cell_type": "markdown",
   "metadata": {},
   "source": [
    "最终修改文件夹名称"
   ]
  },
  {
   "cell_type": "code",
   "execution_count": 6,
   "metadata": {},
   "outputs": [],
   "source": [
    "target_path='D:/文稿/Compelte Salmonella_MGE/VVV3.0VVV/phaster/step1/'\n",
    "file_list=os.listdir(target_path)\n",
    "\n",
    "file_1115_first_filename=pd.read_csv('702_first_filename.csv')\n",
    "origan_contig=file_1115_first_filename['contig'].dropna().to_list()\n",
    "origan_file_name=file_1115_first_filename['filename'].dropna().to_list()\n",
    "if len(origan_contig)!=len(origan_file_name):\n",
    "    print('Please Check')\n",
    "ori_ilb=dict(zip(origan_contig, origan_file_name))\n",
    "\n",
    "step_1_file=pd.read_csv('phaster702_all_first_filename.csv')\n",
    "step_1_file_filename=step_1_file['filename'].to_list()\n",
    "step_1_file_first=step_1_file['contig'].to_list()\n",
    "if len(step_1_file_filename)!=len(step_1_file_first):\n",
    "    print('Please Check')\n",
    "tar_lib=dict(zip(step_1_file_first,step_1_file_filename))\n",
    "new_list_1=[]\n",
    "new_list_2=[]\n",
    "for i in tar_lib:\n",
    "    if i in origan_contig:\n",
    "        temp_value=ori_ilb[i]\n",
    "        new_list_1.append(temp_value)\n",
    "        temp_value_2=tar_lib[i]\n",
    "        new_list_2.append(temp_value_2)\n",
    "    else:\n",
    "        print('ERROR')\n",
    "# output={'column1':new_list_1,'column2':new_list_2}\n",
    "# output=pd.DataFrame(output)\n",
    "# output\n",
    "rename_name=dict(zip(new_list_2,new_list_1))\n",
    "for iii in phaster_result_list:\n",
    "    new_name=rename_name[iii]\n",
    "    os.rename(target_path+iii,target_path+new_name)"
   ]
  },
  {
   "cell_type": "code",
   "execution_count": 10,
   "metadata": {},
   "outputs": [
    {
     "name": "stdout",
     "output_type": "stream",
     "text": [
      "yes\n"
     ]
    }
   ],
   "source": [
    "# file_name_change=pd.read_csv('702_Filaname_change.csv')\n",
    "# file_name_folder=file_name_change['filename2'].dropna().to_list()\n",
    "# file_name_target=file_name_change['filename3'].dropna().to_list()\n",
    "# if len(file_name_target)==len(file_name_folder):\n",
    "#     print('yes')\n",
    "# else:\n",
    "#     print('check')\n",
    "# for i in file_name_folder:\n",
    "#     index=file_name_folder.index(i)\n",
    "#     temp_name=file_name_target[index]\n",
    "#     os.rename(target_path+i,target_path+temp_name)"
   ]
  }
 ],
 "metadata": {
  "kernelspec": {
   "display_name": "Python 3",
   "language": "python",
   "name": "python3"
  },
  "language_info": {
   "codemirror_mode": {
    "name": "ipython",
    "version": 3
   },
   "file_extension": ".py",
   "mimetype": "text/x-python",
   "name": "python",
   "nbconvert_exporter": "python",
   "pygments_lexer": "ipython3",
   "version": "3.9.13"
  },
  "orig_nbformat": 4,
  "vscode": {
   "interpreter": {
    "hash": "3597248ff935df6f8b60598716b3f9559b5db4c96a5692dc7db1c0c27d2b347d"
   }
  }
 },
 "nbformat": 4,
 "nbformat_minor": 2
}
