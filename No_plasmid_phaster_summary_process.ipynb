{
 "cells": [
  {
   "cell_type": "code",
   "execution_count": 1,
   "metadata": {},
   "outputs": [],
   "source": [
    "import pandas as pd\n",
    "import os"
   ]
  },
  {
   "cell_type": "code",
   "execution_count": 2,
   "metadata": {},
   "outputs": [
    {
     "data": {
      "text/plain": [
       "702"
      ]
     },
     "execution_count": 2,
     "metadata": {},
     "output_type": "execute_result"
    }
   ],
   "source": [
    "path='D:/文稿/Compelte Salmonella_MGE/VVV3.0VVV/phaster/step1/'\n",
    "path2='D:/文稿/Compelte Salmonella_MGE/VVV3.0VVV/phaster/step2_summary_702/'\n",
    "file_list=os.listdir(path)\n",
    "len(file_list)"
   ]
  },
  {
   "cell_type": "code",
   "execution_count": 3,
   "metadata": {},
   "outputs": [],
   "source": [
    "def process(file_name):\n",
    "    compete=[]\n",
    "    phage_name=[]\n",
    "    number=[]\n",
    "    num=0\n",
    "\n",
    "    file=pd.read_csv(file_name,sep='\\t',skiprows=32,header=None)\n",
    "    test=file.iloc[0,0]\n",
    "    test2=set(test.split(' '))\n",
    "    if len(test2) == 2:\n",
    "        file=pd.read_csv(file_name,sep='\\t',skiprows=33,header=None)\n",
    "    else:\n",
    "        print('check_file')\n",
    "\n",
    "    index_file=file.index.to_list()\n",
    "\n",
    "    for i in index_file:\n",
    "        process_line=file.loc[i,0]   #####第i行第1列数据\n",
    "        process_line_spilt=set(process_line.split(' '))\n",
    "        process_line_spilt=list(process_line_spilt)\n",
    "        complete_sit=[x for x in process_line_spilt if x.startswith(\"intact\") or x.startswith(\"incomplete\") or x.startswith(\"questionable\")]\n",
    "        compete.append(complete_sit[0])\n",
    "        num=num+1\n",
    "        number.append(num)\n",
    "        phage_most_like_name=[x for x in process_line_spilt if x.startswith(\"PHAGE\")]\n",
    "        phage_most_like_name_1=phage_most_like_name[0]\n",
    "        phage_most_like_name_list=phage_most_like_name_1.split(',')\n",
    "        phage_most_like_name=phage_most_like_name_list[0]\n",
    "        phage_name.append(phage_most_like_name)\n",
    "    output={'contig_number':number,'state':compete,'most_like_phage':phage_name}\n",
    "    table=pd.DataFrame(output)\n",
    "    return table"
   ]
  },
  {
   "cell_type": "code",
   "execution_count": 4,
   "metadata": {},
   "outputs": [],
   "source": [
    "for i in file_list:\n",
    "    file_name=path+i+'/'+'summary.txt'\n",
    "    table_output=process(file_name)\n",
    "    table_output.to_csv(path2+i+'.csv',index=False)"
   ]
  }
 ],
 "metadata": {
  "kernelspec": {
   "display_name": "Python 3",
   "language": "python",
   "name": "python3"
  },
  "language_info": {
   "codemirror_mode": {
    "name": "ipython",
    "version": 3
   },
   "file_extension": ".py",
   "mimetype": "text/x-python",
   "name": "python",
   "nbconvert_exporter": "python",
   "pygments_lexer": "ipython3",
   "version": "3.9.13 (tags/v3.9.13:6de2ca5, May 17 2022, 16:36:42) [MSC v.1929 64 bit (AMD64)]"
  },
  "orig_nbformat": 4,
  "vscode": {
   "interpreter": {
    "hash": "3597248ff935df6f8b60598716b3f9559b5db4c96a5692dc7db1c0c27d2b347d"
   }
  }
 },
 "nbformat": 4,
 "nbformat_minor": 2
}
