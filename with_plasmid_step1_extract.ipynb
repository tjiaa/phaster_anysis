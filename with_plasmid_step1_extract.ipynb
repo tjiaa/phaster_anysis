{
 "cells": [
  {
   "cell_type": "code",
   "execution_count": 1,
   "metadata": {},
   "outputs": [],
   "source": [
    "import os\n",
    "import shutil\n",
    "import pandas as pd\n",
    "from Bio import SeqIO"
   ]
  },
  {
   "cell_type": "code",
   "execution_count": null,
   "metadata": {},
   "outputs": [],
   "source": [
    "# path='D:/文稿/Compelte Salmonella_MGE/VVV3.0VVV/phaster/1115_1115/915_1/'\n",
    "# file_list=os.listdir(path)\n",
    "# len(file_list)"
   ]
  },
  {
   "cell_type": "code",
   "execution_count": 11,
   "metadata": {},
   "outputs": [],
   "source": [
    "# for item in file_list:\n",
    "#     file_split=item.split('_')\n",
    "#     file_new_name=file_split[0]+'_'+file_split[1]+'.fasta'\n",
    "#     os.rename(path+item,path+file_new_name)"
   ]
  },
  {
   "cell_type": "code",
   "execution_count": 12,
   "metadata": {},
   "outputs": [],
   "source": [
    "# plasmid_file=pd.read_csv('plasmid_file.csv')\n",
    "# plasmid_file_list=plasmid_file['plasmid']\n",
    "# len(plasmid_file_list)\n",
    "\n",
    "# for ii in plasmid_file_list:\n",
    "#     remove_filename=ii+'.fasta'\n",
    "#     shutil.move(path+remove_filename,path2)\n"
   ]
  },
  {
   "attachments": {},
   "cell_type": "markdown",
   "metadata": {},
   "source": [
    "验证contig数目"
   ]
  },
  {
   "cell_type": "code",
   "execution_count": 9,
   "metadata": {},
   "outputs": [],
   "source": [
    "# all_contig_num=[]\n",
    "# filename=[]\n",
    "# for files in file_list:\n",
    "#     records = SeqIO.parse(path+files, \"fasta\")\n",
    "#     count = 0\n",
    "#     for record in records:\n",
    "#         count += 1\n",
    "#     all_contig_num.append(count)\n",
    "#     filename.append(files)\n",
    "# output={'filename':filename, 'contig_num':all_contig_num}\n",
    "# output2=pd.DataFrame(output)\n",
    "# output2.to_csv('contig_count.csv',index=False)"
   ]
  },
  {
   "attachments": {},
   "cell_type": "markdown",
   "metadata": {},
   "source": [
    "提取702个染色体文件的第一行"
   ]
  },
  {
   "cell_type": "code",
   "execution_count": 4,
   "metadata": {},
   "outputs": [],
   "source": [
    "# all_first_line=[]\n",
    "# filename=[]\n",
    "# for i in file_list:\n",
    "#     with open(path+i) as f:\n",
    "#         firstline = f.readline()\n",
    "#         all_first_line.append(firstline)\n",
    "#         filename.append(i)\n",
    "# output={'filename':filename,'first':all_first_line}\n",
    "# output3=pd.DataFrame(output)\n",
    "# output3.to_csv('all_first_filename.csv',index=False)\n",
    "        "
   ]
  },
  {
   "attachments": {},
   "cell_type": "markdown",
   "metadata": {},
   "source": [
    "给phaster结果分配文件夹，并解压"
   ]
  },
  {
   "cell_type": "code",
   "execution_count": 2,
   "metadata": {},
   "outputs": [
    {
     "name": "stdout",
     "output_type": "stream",
     "text": [
      "917\n"
     ]
    }
   ],
   "source": [
    "phaster_result_path='D:/文稿/Compelte Salmonella_MGE/VVV3.0VVV/phaster/1115_1115/915/'\n",
    "target_path='D:/文稿/Compelte Salmonella_MGE/VVV3.0VVV/phaster/1115_1115/915_1/'\n",
    "phaster_result_list=os.listdir(phaster_result_path)\n",
    "print(len(phaster_result_list))\n",
    "for ii in phaster_result_list:\n",
    "    # temp_filefolder_name=ii.split('.')\n",
    "    # new_filefoder_name=temp_filefolder_name[0]+'.'+temp_filefolder_name[1]\n",
    "    os.mkdir(target_path+ii)\n",
    "\n",
    "for file in phaster_result_list:\n",
    "    shutil.move(phaster_result_path+file,target_path+file)"
   ]
  },
  {
   "cell_type": "code",
   "execution_count": 3,
   "metadata": {},
   "outputs": [],
   "source": [
    "# shutil.unpack_archive(\"path/to/your_file.zip\", \"path/to/extract/to\")\n",
    "for file in phaster_result_list:\n",
    "    shutil.unpack_archive(target_path+file+'/'+file,target_path+file+'/')"
   ]
  },
  {
   "attachments": {},
   "cell_type": "markdown",
   "metadata": {},
   "source": [
    "1115_获取带有质粒的phaster结果的contigs名字和文件名"
   ]
  },
  {
   "cell_type": "code",
   "execution_count": 4,
   "metadata": {},
   "outputs": [],
   "source": [
    "all_contig=[]\n",
    "filename=[]\n",
    "for item in phaster_result_list:\n",
    "    with open( target_path+item+'/'+'detail.txt', 'r') as file:\n",
    "        for i, line in enumerate(file):\n",
    "            if i == 5:\n",
    "                all_contig.append(line)\n",
    "                filename.append(item)\n",
    "                break\n",
    "if len(all_contig)!=len(phaster_result_list):\n",
    "    print('Please Check')\n",
    "\n",
    "all_contig_first_number=[]\n",
    "for ii in all_contig:\n",
    "    temp1=ii.split(' ')\n",
    "    temp1=temp1[3]\n",
    "    temp1=temp1.split(',')\n",
    "    temp1=temp1[0]\n",
    "    all_contig_first_number.append(temp1)\n",
    "\n",
    "output={'filename':filename,'first':all_contig_first_number}\n",
    "output2=pd.DataFrame(output)\n",
    "output2.to_csv('915_file.csv',index=False)"
   ]
  },
  {
   "attachments": {},
   "cell_type": "markdown",
   "metadata": {},
   "source": [
    "1115_最终修改文件夹名称"
   ]
  },
  {
   "cell_type": "code",
   "execution_count": 6,
   "metadata": {},
   "outputs": [
    {
     "name": "stdout",
     "output_type": "stream",
     "text": [
      "CP074238.1\n"
     ]
    }
   ],
   "source": [
    "target_path='D:/文稿/Compelte Salmonella_MGE/VVV3.0VVV/phaster/1115_1115/915_1/'\n",
    "file_list=os.listdir(target_path)\n",
    "\n",
    "file_1115_first_filename=pd.read_csv('1115_first_filename.csv')\n",
    "origan_contig=file_1115_first_filename['contig'].dropna().to_list()\n",
    "origan_file_name=file_1115_first_filename['filename'].dropna().to_list()\n",
    "if len(origan_contig)!=len(origan_file_name):\n",
    "    print('Please Check')\n",
    "ori_ilb=dict(zip(origan_contig, origan_file_name))\n",
    "\n",
    "step_1_file=pd.read_csv('915_file.csv')\n",
    "step_1_file_filename=step_1_file['filename'].to_list()\n",
    "step_1_file_first=step_1_file['first'].to_list()\n",
    "if len(step_1_file_filename)!=len(step_1_file_first):\n",
    "    print('Please Check')\n",
    "tar_lib=dict(zip(step_1_file_first,step_1_file_filename))\n",
    "new_list_1=[]\n",
    "new_list_2=[]\n",
    "for i in tar_lib:\n",
    "    if i in origan_contig:\n",
    "        temp_value=ori_ilb[i]\n",
    "        new_list_1.append(temp_value)\n",
    "        temp_value_2=tar_lib[i]\n",
    "        new_list_2.append(temp_value_2)\n",
    "    else:\n",
    "        print(i)\n",
    "# output={'column1':new_list_1,'column2':new_list_2}\n",
    "# output=pd.DataFrame(output)\n",
    "# output\n",
    "rename_name=dict(zip(new_list_2,new_list_1))\n",
    "for iii in rename_name:\n",
    "    new_name=rename_name[iii]\n",
    "    os.rename(target_path+iii,target_path+new_name)\n",
    "\n",
    "\n",
    "\n",
    "# ########AHL剪切#########\n",
    "# file_150_path='D:/文稿/Compelte Salmonella_MGE/VVV3.0VVV/phaster/1115_1115/ahl_150/'\n",
    "# for ii in new_list_2:\n",
    "#     num=new_list_2.index(ii)\n",
    "#     column1=new_list_1[num]\n",
    "#     shutil.move(target_path+ii,file_150_path+column1)\n",
    "# path='D:/文稿/Compelte Salmonella_MGE/VVV3.0VVV/phaster/1115_1115/AHL_200_with_plasmid/'\n",
    "# path2='D:/文稿/Compelte Salmonella_MGE/VVV3.0VVV/phaster/1115_1115/fuck_50/'\n",
    "# file_list=os.listdir(path)\n",
    "# diff = set(file_list) - set(new_list_1)\n",
    "# diff=list(diff)\n",
    "# for d in diff:\n",
    "#     shutil.move(path+d,path2+d)"
   ]
  }
 ],
 "metadata": {
  "kernelspec": {
   "display_name": "Python 3",
   "language": "python",
   "name": "python3"
  },
  "language_info": {
   "codemirror_mode": {
    "name": "ipython",
    "version": 3
   },
   "file_extension": ".py",
   "mimetype": "text/x-python",
   "name": "python",
   "nbconvert_exporter": "python",
   "pygments_lexer": "ipython3",
   "version": "3.9.13"
  },
  "orig_nbformat": 4,
  "vscode": {
   "interpreter": {
    "hash": "3597248ff935df6f8b60598716b3f9559b5db4c96a5692dc7db1c0c27d2b347d"
   }
  }
 },
 "nbformat": 4,
 "nbformat_minor": 2
}
