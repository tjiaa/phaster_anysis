{
 "cells": [
  {
   "cell_type": "code",
   "execution_count": 1,
   "metadata": {},
   "outputs": [],
   "source": [
    "import pandas as pd\n",
    "import os"
   ]
  },
  {
   "cell_type": "code",
   "execution_count": 5,
   "metadata": {},
   "outputs": [
    {
     "data": {
      "text/plain": [
       "915"
      ]
     },
     "execution_count": 5,
     "metadata": {},
     "output_type": "execute_result"
    }
   ],
   "source": [
    "path='D:/文稿/Compelte Salmonella_MGE/VVV3.0VVV/phaster/1115_1115/915_1/'\n",
    "output_path='D:/文稿/Compelte Salmonella_MGE/VVV3.0VVV/phaster/1115_1115/915_output/'\n",
    "file_list=os.listdir(path)\n",
    "len(file_list)"
   ]
  },
  {
   "cell_type": "code",
   "execution_count": 8,
   "metadata": {},
   "outputs": [],
   "source": [
    "def process(file):\n",
    "    compete=[]\n",
    "    phage_name=[]\n",
    "    number=[]\n",
    "    location=[] #####plasmid or chromosome#####\n",
    "    contig_name=[]#####show the contig name\n",
    "    num=0\n",
    "    test_1=pd.read_csv(path+file+'/'+'summary.txt',sep='\\t',header=None,skiprows=33)\n",
    "    test_2=test_1.iloc[0,0]\n",
    "    test_2=set(test_2.split(' '))\n",
    "    if len(test_2) == 2:\n",
    "        file_test=pd.read_csv(path+file+'/'+'summary.txt',sep='\\t',skiprows=34,header=None)\n",
    "    else:\n",
    "        print('check_file')\n",
    "    \n",
    "    index_file=file_test.index.to_list()\n",
    "\n",
    "    for i in index_file:\n",
    "        process_line=file_test.loc[i,0]   #####第i行第1列数据\n",
    "        process_line_spilt=set(process_line.split(' '))\n",
    "        process_line_spilt=list(process_line_spilt)\n",
    "\n",
    "        complete_sit=[x for x in process_line_spilt if x.startswith(\"intact\") or x.startswith(\"incomplete\") or x.startswith(\"questionable\")]\n",
    "        compete.append(complete_sit[0])\n",
    "        num=num+1\n",
    "        number.append(num)\n",
    "        phage_most_like_name=[x for x in process_line_spilt if x.startswith(\"PHAGE\")]\n",
    "        phage_most_like_name_1=phage_most_like_name[0]\n",
    "        phage_most_like_name_list=phage_most_like_name_1.split(',')\n",
    "        phage_most_like_name=phage_most_like_name_list[0]\n",
    "        phage_name.append(phage_most_like_name)\n",
    "    ######################################################\n",
    "        loc_contig_info=[x for x in process_line_spilt if \"Salmonella\" in x]\n",
    "        loc_contig_info=loc_contig_info[0]\n",
    "        loc_info=loc_contig_info.split(',')\n",
    "        loc_info=loc_info[0]\n",
    "        contig_name.append(loc_info)\n",
    "    ######################################################\n",
    "    for i in contig_name:\n",
    "        no1=contig_name[0]\n",
    "        if i==no1:\n",
    "            location.append('Chromosome')\n",
    "        else:\n",
    "            location.append('Plasmid')\n",
    "    output={'number':number,'location':location,'contig_name':contig_name,'compete':compete,'most_like_phage_name':phage_name}\n",
    "    output=pd.DataFrame(output)\n",
    "    return output\n",
    "    "
   ]
  },
  {
   "cell_type": "code",
   "execution_count": 9,
   "metadata": {},
   "outputs": [],
   "source": [
    "for ii in file_list:\n",
    "    table=process(ii)\n",
    "    table.to_csv(output_path+ii+'.csv',index=False)"
   ]
  }
 ],
 "metadata": {
  "kernelspec": {
   "display_name": "Python 3",
   "language": "python",
   "name": "python3"
  },
  "language_info": {
   "codemirror_mode": {
    "name": "ipython",
    "version": 3
   },
   "file_extension": ".py",
   "mimetype": "text/x-python",
   "name": "python",
   "nbconvert_exporter": "python",
   "pygments_lexer": "ipython3",
   "version": "3.9.13"
  },
  "orig_nbformat": 4,
  "vscode": {
   "interpreter": {
    "hash": "3597248ff935df6f8b60598716b3f9559b5db4c96a5692dc7db1c0c27d2b347d"
   }
  }
 },
 "nbformat": 4,
 "nbformat_minor": 2
}
